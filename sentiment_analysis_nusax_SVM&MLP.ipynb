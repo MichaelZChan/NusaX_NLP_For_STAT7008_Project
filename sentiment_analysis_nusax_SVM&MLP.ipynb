{
 "cells": [
  {
   "cell_type": "code",
   "execution_count": 8,
   "metadata": {},
   "outputs": [
    {
     "name": "stderr",
     "output_type": "stream",
     "text": [
      "[nltk_data] Downloading package punkt to\n",
      "[nltk_data]     C:\\Users\\Micha\\AppData\\Roaming\\nltk_data...\n",
      "[nltk_data]   Package punkt is already up-to-date!\n"
     ]
    },
    {
     "data": {
      "text/plain": [
       "True"
      ]
     },
     "execution_count": 8,
     "metadata": {},
     "output_type": "execute_result"
    }
   ],
   "source": [
    "import pandas as pd\n",
    "from nltk import word_tokenize\n",
    "import nltk\n",
    "nltk.download('punkt')"
   ]
  },
  {
   "cell_type": "markdown",
   "metadata": {},
   "source": [
    "SVM"
   ]
  },
  {
   "cell_type": "code",
   "execution_count": 9,
   "metadata": {},
   "outputs": [],
   "source": [
    "def load_sentiment_data(directory=\"nusax/datasets/sentiment/\"):\n",
    "    \"\"\"\n",
    "    Load sentiment analysis data from NusaX dataset.\n",
    "    Returns training, validation, and testing data along with labels for each language.\n",
    "    \n",
    "    Returns:\n",
    "    dict: A dictionary with language keys ('indonesian', 'english', 'javanese').\n",
    "            Each key contains another dictionary with keys 'train', 'valid', and 'test'.\n",
    "            Each of these keys maps to a tuple of (tokenized_data, original_data), where:\n",
    "                - tokenized_data: List of tokenized sentences in the corresponding language.\n",
    "                - original_data: List of original sentences(in other words, not tokenized) in the corresponding language.\n",
    "    \n",
    "    Example usage:\n",
    "        sentiment_data = load_sentiment_data()\n",
    "        english_train_data = sentiment_data['english']['train']\n",
    "        indonesian_valid_data = sentiment_data['indonesian']['valid']\n",
    "        javanese_test_data = sentiment_data['javanese']['test']\n",
    "    \"\"\"\n",
    "    languages = [\"indonesian\", \"english\", \"javanese\"]\n",
    "    data = {}\n",
    "\n",
    "    for lang in languages:\n",
    "        lang_directory = directory + lang + \"/\"\n",
    "        train_df = pd.read_csv(lang_directory + \"train.csv\")\n",
    "        valid_df = pd.read_csv(lang_directory + \"valid.csv\")\n",
    "        test_df = pd.read_csv(lang_directory + \"test.csv\")\n",
    "\n",
    "        xtrain = [\" \".join(word_tokenize(sent)) for sent in list(train_df['text'])]\n",
    "        ytrain = list(train_df['label'])\n",
    "        xvalid = [\" \".join(word_tokenize(sent)) for sent in list(valid_df['text'])]\n",
    "        yvalid = list(valid_df['label'])\n",
    "        xtest = [\" \".join(word_tokenize(sent)) for sent in list(test_df['text'])]\n",
    "        ytest = list(test_df['label'])\n",
    "\n",
    "        data[lang] = {\n",
    "            \"train\": (xtrain, ytrain),\n",
    "            \"valid\": (xvalid, yvalid),\n",
    "            \"test\": (xtest, ytest)\n",
    "        }\n",
    "    \n",
    "    return data"
   ]
  },
  {
   "cell_type": "code",
   "execution_count": 10,
   "metadata": {},
   "outputs": [
    {
     "name": "stdout",
     "output_type": "stream",
     "text": [
      "              precision    recall  f1-score   support\n",
      "\n",
      "    negative       0.73      0.79      0.76        38\n",
      "     neutral       0.68      0.71      0.69        24\n",
      "    positive       0.85      0.76      0.81        38\n",
      "\n",
      "    accuracy                           0.76       100\n",
      "   macro avg       0.75      0.75      0.75       100\n",
      "weighted avg       0.77      0.76      0.76       100\n",
      "\n"
     ]
    },
    {
     "data": {
      "image/png": "[encoded data removed]",
      "text/plain": [
       "<Figure size 640x480 with 2 Axes>"
      ]
     },
     "metadata": {},
     "output_type": "display_data"
    },
    {
     "name": "stdout",
     "output_type": "stream",
     "text": [
      "Accuracy on validation set: 0.76\n",
      "Sentiment on the input text 'Saya sangat bahagia hari ini' is ['positive']\n",
      "Sentiment on the input text 'Cuaca sangat buruk' is ['negative']\n",
      "Sentiment on the input text 'Saya suka belajar bahasa' is ['negative']\n",
      "Sentiment on the input text 'Ini adalah hari yang menyedihkan' is ['negative']\n"
     ]
    }
   ],
   "source": [
    "# sentiment_analysis_svm part\n",
    "import pandas as pd\n",
    "from sklearn.model_selection import train_test_split\n",
    "from sklearn.feature_extraction.text import TfidfVectorizer\n",
    "from sklearn import svm\n",
    "from sklearn.metrics import classification_report, confusion_matrix\n",
    "import seaborn as sns\n",
    "import matplotlib.pyplot as plt\n",
    "\n",
    "# load sentiment analysis data\n",
    "def load_sentiment_data(directory=\"nusax/datasets/sentiment/\"):\n",
    "    languages = [\"indonesian\", \"english\", \"javanese\"]\n",
    "    data = {}\n",
    "\n",
    "    for lang in languages:\n",
    "        lang_directory = directory + lang + \"/\"\n",
    "        train_df = pd.read_csv(lang_directory + \"train.csv\")\n",
    "        valid_df = pd.read_csv(lang_directory + \"valid.csv\")\n",
    "        test_df = pd.read_csv(lang_directory + \"test.csv\")\n",
    "\n",
    "        xtrain = [\" \".join(word_tokenize(sent)) for sent in list(train_df['text'])]\n",
    "        ytrain = list(train_df['label'])\n",
    "        xvalid = [\" \".join(word_tokenize(sent)) for sent in list(valid_df['text'])]\n",
    "        yvalid = list(valid_df['label'])\n",
    "        xtest = [\" \".join(word_tokenize(sent)) for sent in list(test_df['text'])]\n",
    "        ytest = list(test_df['label'])\n",
    "\n",
    "        data[lang] = {\n",
    "            \"train\": (xtrain, ytrain),\n",
    "            \"valid\": (xvalid, yvalid),\n",
    "            \"test\": (xtest, ytest)\n",
    "        }\n",
    "\n",
    "    return data\n",
    "\n",
    "# SVM training\n",
    "def train_svm(X_train, y_train):\n",
    "    vectorizer = TfidfVectorizer()\n",
    "    X_train_tfidf = vectorizer.fit_transform(X_train)\n",
    "    \n",
    "    model = svm.SVC(kernel='linear')\n",
    "    model.fit(X_train_tfidf, y_train)\n",
    "    \n",
    "    return model, vectorizer\n",
    "\n",
    "# model evaluation\n",
    "def evaluate_model(model, vectorizer, X_test, y_test):\n",
    "    X_test_tfidf = vectorizer.transform(X_test)\n",
    "    predictions = model.predict(X_test_tfidf)\n",
    "    \n",
    "    print(classification_report(y_test, predictions))\n",
    "    cm = confusion_matrix(y_test, predictions)\n",
    "    sns.heatmap(cm, annot=True, fmt='d')\n",
    "    plt.xlabel('Predicted')\n",
    "    plt.ylabel('True')\n",
    "    plt.title('Confusion Matrix')\n",
    "    plt.show()\n",
    "\n",
    "# 实现情感分析的测试功能\n",
    "from sklearn.metrics import accuracy_score\n",
    "\n",
    "def test_sentiment_analysis(model, vectorizer, input_text):\n",
    "    input_text = \" \".join(word_tokenize(input_text))\n",
    "    prediction = model.predict(vectorizer.transform([input_text]).toarray())\n",
    "    return prediction\n",
    "\n",
    "def evaluate_accuracy(model, vectorizer, X_test, y_test):\n",
    "    predictions = model.predict(vectorizer.transform(X_test))\n",
    "    accuracy = accuracy_score(y_test, predictions)\n",
    "    return accuracy\n",
    "\n",
    "# main \n",
    "if __name__ == \"__main__\":\n",
    "    sentiment_data = load_sentiment_data()  # 加载情感分析数据\n",
    "    X_train, y_train = sentiment_data['indonesian']['train']\n",
    "    X_valid, y_valid = sentiment_data['indonesian']['valid']\n",
    "    \n",
    "    model, vectorizer = train_svm(X_train, y_train)\n",
    "    evaluate_model(model, vectorizer, X_valid, y_valid)\n",
    "\n",
    "    # accuracy\n",
    "    accuracy = evaluate_accuracy(model, vectorizer, X_valid, y_valid)\n",
    "    print(f\"Accuracy on validation set: {accuracy:.2f}\")\n",
    "\n",
    "    # test function\n",
    "    test_cases = [\n",
    "        \"Saya sangat bahagia hari ini\",  # \"I am very happy today\"\n",
    "        \"Cuaca sangat buruk\",            # \"The weather is very bad\"\n",
    "        \"Saya suka belajar bahasa\",      # \"I love learning languages\"\n",
    "        \"Ini adalah hari yang menyedihkan\" # \"This is a sad day\"\n",
    "    ]\n",
    "\n",
    "    for case in test_cases:\n",
    "        sentiment = test_sentiment_analysis(model, vectorizer, case)\n",
    "        print(f\"Sentiment on the input text '{case}' is {sentiment}\")"
   ]
  },
  {
   "cell_type": "markdown",
   "metadata": {},
   "source": [
    "MLP"
   ]
  },
  {
   "cell_type": "code",
   "execution_count": 11,
   "metadata": {},
   "outputs": [
    {
     "name": "stderr",
     "output_type": "stream",
     "text": [
      "[nltk_data] Downloading package punkt to\n",
      "[nltk_data]     C:\\Users\\Micha\\AppData\\Roaming\\nltk_data...\n",
      "[nltk_data]   Package punkt is already up-to-date!\n"
     ]
    },
    {
     "name": "stdout",
     "output_type": "stream",
     "text": [
      "              precision    recall  f1-score   support\n",
      "\n",
      "    negative       0.77      0.79      0.78        38\n",
      "     neutral       0.71      0.62      0.67        24\n",
      "    positive       0.80      0.84      0.82        38\n",
      "\n",
      "    accuracy                           0.77       100\n",
      "   macro avg       0.76      0.75      0.76       100\n",
      "weighted avg       0.77      0.77      0.77       100\n",
      "\n"
     ]
    },
    {
     "data": {
      "image/png": "[encoded data removed]",
      "text/plain": [
       "<Figure size 640x480 with 2 Axes>"
      ]
     },
     "metadata": {},
     "output_type": "display_data"
    },
    {
     "name": "stdout",
     "output_type": "stream",
     "text": [
      "Accuracy on validation set: 0.77\n",
      "Sentiment on the input text 'Saya sangat bahagia hari ini' is ['positive']\n",
      "Sentiment on the input text 'Cuaca sangat buruk' is ['positive']\n",
      "Sentiment on the input text 'Saya suka belajar bahasa' is ['negative']\n",
      "Sentiment on the input text 'Ini adalah hari yang menyedihkan' is ['negative']\n"
     ]
    }
   ],
   "source": [
    "# sentiment_analysis_mlp part\n",
    "import pandas as pd\n",
    "from sklearn.model_selection import train_test_split\n",
    "from sklearn.feature_extraction.text import TfidfVectorizer\n",
    "from sklearn.neural_network import MLPClassifier\n",
    "from sklearn.metrics import classification_report, confusion_matrix\n",
    "import seaborn as sns\n",
    "import matplotlib.pyplot as plt\n",
    "from nltk import word_tokenize\n",
    "import nltk\n",
    "\n",
    "\n",
    "nltk.download('punkt')\n",
    "\n",
    "# loading sentiment analysis data\n",
    "def load_sentiment_data(directory=\"nusax/datasets/sentiment/\"):\n",
    "    languages = [\"indonesian\", \"english\", \"javanese\"]\n",
    "    data = {}\n",
    "\n",
    "    for lang in languages:\n",
    "        lang_directory = directory + lang + \"/\"\n",
    "        train_df = pd.read_csv(lang_directory + \"train.csv\")\n",
    "        valid_df = pd.read_csv(lang_directory + \"valid.csv\")\n",
    "        test_df = pd.read_csv(lang_directory + \"test.csv\")\n",
    "\n",
    "        xtrain = [\" \".join(word_tokenize(sent)) for sent in list(train_df['text'])]\n",
    "        ytrain = list(train_df['label'])\n",
    "        xvalid = [\" \".join(word_tokenize(sent)) for sent in list(valid_df['text'])]\n",
    "        yvalid = list(valid_df['label'])\n",
    "        xtest = [\" \".join(word_tokenize(sent)) for sent in list(test_df['text'])]\n",
    "        ytest = list(test_df['label'])\n",
    "\n",
    "        data[lang] = {\n",
    "            \"train\": (xtrain, ytrain),\n",
    "            \"valid\": (xvalid, yvalid),\n",
    "            \"test\": (xtest, ytest)\n",
    "        }\n",
    "\n",
    "    return data\n",
    "\n",
    "# mlp model training\n",
    "def train_mlp(X_train, y_train):\n",
    "    vectorizer = TfidfVectorizer()\n",
    "    X_train_tfidf = vectorizer.fit_transform(X_train)\n",
    "    \n",
    "    model = MLPClassifier(hidden_layer_sizes=(100,), max_iter=300, random_state=42)\n",
    "    model.fit(X_train_tfidf, y_train)\n",
    "    \n",
    "    return model, vectorizer\n",
    "\n",
    "# model evaluation\n",
    "def evaluate_model(model, vectorizer, X_test, y_test):\n",
    "    X_test_tfidf = vectorizer.transform(X_test)\n",
    "    predictions = model.predict(X_test_tfidf)\n",
    "    \n",
    "    print(classification_report(y_test, predictions))\n",
    "    cm = confusion_matrix(y_test, predictions)\n",
    "    sns.heatmap(cm, annot=True, fmt='d')\n",
    "    plt.xlabel('Predicted')\n",
    "    plt.ylabel('True')\n",
    "    plt.title('Confusion Matrix')\n",
    "    plt.show()\n",
    "\n",
    "# 实现情感分析的测试功能\n",
    "from sklearn.metrics import accuracy_score\n",
    "\n",
    "def test_sentiment_analysis(model, vectorizer, input_text):\n",
    "    input_text = \" \".join(word_tokenize(input_text))\n",
    "    prediction = model.predict(vectorizer.transform([input_text]).toarray())\n",
    "    return prediction\n",
    "\n",
    "def evaluate_accuracy(model, vectorizer, X_test, y_test):\n",
    "    predictions = model.predict(vectorizer.transform(X_test))\n",
    "    accuracy = accuracy_score(y_test, predictions)\n",
    "    return accuracy\n",
    "\n",
    "if __name__ == \"__main__\":\n",
    "    sentiment_data = load_sentiment_data()  # 加载情感分析数据\n",
    "    X_train, y_train = sentiment_data['indonesian']['train']\n",
    "    X_valid, y_valid = sentiment_data['indonesian']['valid']\n",
    "    \n",
    "    model, vectorizer = train_mlp(X_train, y_train)\n",
    "    evaluate_model(model, vectorizer, X_valid, y_valid)\n",
    "\n",
    "    # accuracy\n",
    "    accuracy = evaluate_accuracy(model, vectorizer, X_valid, y_valid)\n",
    "    print(f\"Accuracy on validation set: {accuracy:.2f}\")\n",
    "\n",
    "    # test function\n",
    "    test_cases = [\n",
    "        \"Saya sangat bahagia hari ini\",  # \"I am very happy today\"\n",
    "        \"Cuaca sangat buruk\",            # \"The weather is very bad\"\n",
    "        \"Saya suka belajar bahasa\",      # \"I love learning languages\"\n",
    "        \"Ini adalah hari yang menyedihkan\" # \"This is a sad day\"\n",
    "    ]\n",
    "\n",
    "    for case in test_cases:\n",
    "        sentiment = test_sentiment_analysis(model, vectorizer, case)\n",
    "        print(f\"Sentiment on the input text '{case}' is {sentiment}\")"
   ]
  }
 ],
 "metadata": {
  "kernelspec": {
   "display_name": "Python 3 (ipykernel)",
   "language": "python",
   "name": "python3"
  }
 },
 "nbformat": 4,
 "nbformat_minor": 2
}
